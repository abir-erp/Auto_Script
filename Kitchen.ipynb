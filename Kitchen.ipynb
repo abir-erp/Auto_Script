{
 "cells": [
  {
   "cell_type": "code",
   "execution_count": 3,
   "metadata": {},
   "outputs": [
    {
     "data": {
      "text/html": [
       "<div>\n",
       "<style scoped>\n",
       "    .dataframe tbody tr th:only-of-type {\n",
       "        vertical-align: middle;\n",
       "    }\n",
       "\n",
       "    .dataframe tbody tr th {\n",
       "        vertical-align: top;\n",
       "    }\n",
       "\n",
       "    .dataframe thead th {\n",
       "        text-align: right;\n",
       "    }\n",
       "</style>\n",
       "<table border=\"1\" class=\"dataframe\">\n",
       "  <thead>\n",
       "    <tr style=\"text-align: right;\">\n",
       "      <th></th>\n",
       "      <th>Employee</th>\n",
       "      <th>Date</th>\n",
       "      <th>Part Number</th>\n",
       "      <th>Op Number</th>\n",
       "      <th>SO Number</th>\n",
       "    </tr>\n",
       "  </thead>\n",
       "  <tbody>\n",
       "    <tr>\n",
       "      <th>0</th>\n",
       "      <td>HICKEY, MICHAEL</td>\n",
       "      <td>2023-07-24</td>\n",
       "      <td>VSM-6277</td>\n",
       "      <td>050A</td>\n",
       "      <td>19547</td>\n",
       "    </tr>\n",
       "    <tr>\n",
       "      <th>1</th>\n",
       "      <td>MCCABE, CLIFFORD</td>\n",
       "      <td>2023-07-24</td>\n",
       "      <td>71693-1216</td>\n",
       "      <td>020</td>\n",
       "      <td>20253N</td>\n",
       "    </tr>\n",
       "    <tr>\n",
       "      <th>2</th>\n",
       "      <td>LANTZ, TRAVIS</td>\n",
       "      <td>2023-07-24</td>\n",
       "      <td>A00017A27-1618</td>\n",
       "      <td>020</td>\n",
       "      <td>19787N</td>\n",
       "    </tr>\n",
       "    <tr>\n",
       "      <th>3</th>\n",
       "      <td>YOUNG, COBY</td>\n",
       "      <td>2023-07-24</td>\n",
       "      <td>C00288A58-1299</td>\n",
       "      <td>030</td>\n",
       "      <td>20266</td>\n",
       "    </tr>\n",
       "    <tr>\n",
       "      <th>4</th>\n",
       "      <td>SHEPARD, ALLEN</td>\n",
       "      <td>2023-07-24</td>\n",
       "      <td>52128682002-2459</td>\n",
       "      <td>032</td>\n",
       "      <td>20063</td>\n",
       "    </tr>\n",
       "  </tbody>\n",
       "</table>\n",
       "</div>"
      ],
      "text/plain": [
       "           Employee       Date       Part Number Op Number SO Number\n",
       "0   HICKEY, MICHAEL 2023-07-24          VSM-6277      050A     19547\n",
       "1  MCCABE, CLIFFORD 2023-07-24        71693-1216       020    20253N\n",
       "2     LANTZ, TRAVIS 2023-07-24    A00017A27-1618       020    19787N\n",
       "3       YOUNG, COBY 2023-07-24    C00288A58-1299       030     20266\n",
       "4    SHEPARD, ALLEN 2023-07-24  52128682002-2459       032     20063"
      ]
     },
     "execution_count": 3,
     "metadata": {},
     "output_type": "execute_result"
    }
   ],
   "source": [
    "import pandas as pd\n",
    "\n",
    "df = pd.read_excel('C:\\\\Setup_code\\\\tempX.xlsx')\n",
    "df.head()"
   ]
  }
 ],
 "metadata": {
  "kernelspec": {
   "display_name": "Python 3",
   "language": "python",
   "name": "python3"
  },
  "language_info": {
   "codemirror_mode": {
    "name": "ipython",
    "version": 3
   },
   "file_extension": ".py",
   "mimetype": "text/x-python",
   "name": "python",
   "nbconvert_exporter": "python",
   "pygments_lexer": "ipython3",
   "version": "3.11.4"
  },
  "orig_nbformat": 4
 },
 "nbformat": 4,
 "nbformat_minor": 2
}
