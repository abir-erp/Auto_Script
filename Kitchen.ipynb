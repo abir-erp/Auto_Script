{
 "cells": [
  {
   "cell_type": "code",
   "execution_count": 25,
   "metadata": {},
   "outputs": [],
   "source": [
    "import pandas as pd\n",
    "import numpy as np\n",
    "\n",
    "path = pd.read_excel('C:\\\\Setup_code\\\\tempX.xlsx')\n",
    "R = 'C:\\\\Setup_code\\\\R.xlsx'\n",
    "df = pd.DataFrame(path)\n",
    "\n",
    "# dt = pd.date_range('20230501', periods=3)\n",
    "# df = pd.DataFrame(np.random.randn(3,3), index=dt, columns=list('XYZ'))\n",
    "df2 = pd.DataFrame(\n",
    "    {\n",
    "        \"A\": 1.0,\n",
    "        \"B\": pd.Timestamp(\"20230502\"),\n",
    "        \"C\": pd.Series(1, index=list(range(4)), dtype=\"float32\"),\n",
    "        \"D\": np.array([3] * 4, dtype=\"int32\"),\n",
    "        \"E\": pd.Categorical([\"test\", \"train\", \"test\", \"train\"]),\n",
    "        \"F\": \"foo\",\n",
    "    }\n",
    ")\n",
    "df2\n",
    "\n",
    "df.sort_index(axis=0, ascending=True)\n",
    "df.sort_values(by='Date')\n",
    "df[:9]\n",
    "df.loc[:,['Employee', 'Date', 'Part Number', 'SO Number']]\n",
    "df.iat[5,0]\n",
    "df.iloc[:10,:8]\n",
    "df[df['Date']>'2023-07-25']\n",
    "df[df['Employee'] == 'HOUSE, CHRISTOPHER']\n",
    "df[(df['Date']>'2023-07-25') & (df['Employee'] == 'HOUSE, CHRISTOPHER')]\n",
    "\n",
    "df3= df.copy()\n",
    "df3 [\"E\"] = [\"one\", \"one\", \"two\", \"three\", \"four\", \"three\", \"one\", \"two\", \"three\", \"four\", \"three\", \"one\", \"one\", \"two\", \"three\", \"four\", \"three\", \"one\", \"two\", \"three\", \"four\", \"three\",\"one\", \"one\", \"two\", \"three\", \"four\", \"three\", \"one\", \"two\", \"three\", \"four\", \"three\", \"three\", \"one\", \"two\", \"three\", \"four\", \"three\"]\n",
    "df3[df3[\"E\"].isin([\"two\", \"four\"])]\n",
    "# Format the \"Date\" column to show only month and day\n",
    "df3[\"Date\"] = df3[\"Date\"].dt.strftime('%m/%d')\n",
    "df3.to_excel(R, index=False)\n"
   ]
  }
 ],
 "metadata": {
  "kernelspec": {
   "display_name": "Python 3",
   "language": "python",
   "name": "python3"
  },
  "language_info": {
   "codemirror_mode": {
    "name": "ipython",
    "version": 3
   },
   "file_extension": ".py",
   "mimetype": "text/x-python",
   "name": "python",
   "nbconvert_exporter": "python",
   "pygments_lexer": "ipython3",
   "version": "3.11.4"
  },
  "orig_nbformat": 4
 },
 "nbformat": 4,
 "nbformat_minor": 2
}
